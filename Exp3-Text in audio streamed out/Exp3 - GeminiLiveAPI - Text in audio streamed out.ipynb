{
 "cells": [
  {
   "cell_type": "code",
   "execution_count": null,
   "id": "849b4261-782e-41c8-8bda-0f655ff81de2",
   "metadata": {},
   "outputs": [],
   "source": []
  },
  {
   "cell_type": "code",
   "execution_count": null,
   "id": "de511c86-f7a0-4dca-8b24-351781556d7b",
   "metadata": {},
   "outputs": [],
   "source": [
    "# Gemini conversation: https://gemini.google.com/app/83774c879215fb34?utm_source=app_launcher&utm_medium=owned&utm_campaign=base_all"
   ]
  },
  {
   "cell_type": "code",
   "execution_count": null,
   "id": "4c3d46ef-d3f8-442f-b21e-ae4d37f2060b",
   "metadata": {},
   "outputs": [],
   "source": [
    "#!pip install python-dotenv\n",
    "#!pip -q install google-genai jinja2\n",
    "#!pip -q install sounddevice\n",
    "#!pip -q install numpy"
   ]
  },
  {
   "cell_type": "code",
   "execution_count": 1,
   "id": "26c9215f-75a1-4e61-bab5-b21c2916bec9",
   "metadata": {},
   "outputs": [
    {
     "name": "stderr",
     "output_type": "stream",
     "text": [
      "/Users/friday/Desktop/venv/lib/python3.9/site-packages/urllib3/__init__.py:35: NotOpenSSLWarning: urllib3 v2 only supports OpenSSL 1.1.1+, currently the 'ssl' module is compiled with 'LibreSSL 2.8.3'. See: https://github.com/urllib3/urllib3/issues/3020\n",
      "  warnings.warn(\n"
     ]
    }
   ],
   "source": [
    "from google import genai\n",
    "from google.genai import types"
   ]
  },
  {
   "cell_type": "code",
   "execution_count": 3,
   "id": "182000d4-c676-49db-b955-7a36492381d1",
   "metadata": {},
   "outputs": [
    {
     "name": "stdout",
     "output_type": "stream",
     "text": [
      "API key loaded successfully!\n"
     ]
    }
   ],
   "source": [
    "from dotenv import load_dotenv\n",
    "import os\n",
    "\n",
    "# Load your environment file\n",
    "load_dotenv('my_keys.env')\n",
    "\n",
    "# Check if the variable exists (but don't print the secret)\n",
    "GOOGLE_API_KEY = os.getenv(\"GOOGLE_API_KEY\")\n",
    "\n",
    "api_key = GOOGLE_API_KEY\n",
    "\n",
    "# Safe check\n",
    "if api_key:\n",
    "    print(\"API key loaded successfully!\")\n",
    "else:\n",
    "    print(\"API key not found. Check your .env file and path.\")"
   ]
  },
  {
   "cell_type": "code",
   "execution_count": null,
   "id": "8ba0a4d7-f65a-4a5d-ba66-eb289250d3a0",
   "metadata": {},
   "outputs": [],
   "source": []
  },
  {
   "cell_type": "code",
   "execution_count": 5,
   "id": "90bf10a5-87d9-49a5-8487-e7f345317712",
   "metadata": {},
   "outputs": [
    {
     "name": "stdout",
     "output_type": "stream",
     "text": [
      "Connected to model: gemini-2.0-flash-live-001\n",
      "Type 'q' to quit.\n"
     ]
    },
    {
     "name": "stdin",
     "output_type": "stream",
     "text": [
      "User>  Hi\n"
     ]
    },
    {
     "name": "stdout",
     "output_type": "stream",
     "text": [
      "Model thinking...\n",
      "Model response audio type: audio/pcm;rate=24000\n",
      "........\n",
      "Audio playback finished for this turn.\n"
     ]
    },
    {
     "name": "stdin",
     "output_type": "stream",
     "text": [
      "User>  How are you?\n"
     ]
    },
    {
     "name": "stdout",
     "output_type": "stream",
     "text": [
      "Model thinking...\n",
      "Model response audio type: audio/pcm;rate=24000\n",
      "...............\n",
      "Audio playback finished for this turn.\n"
     ]
    },
    {
     "name": "stdin",
     "output_type": "stream",
     "text": [
      "User>  Im good thanks\n"
     ]
    },
    {
     "name": "stdout",
     "output_type": "stream",
     "text": [
      "Model thinking...\n",
      "Model response audio type: audio/pcm;rate=24000\n",
      ".........\n",
      "Audio playback finished for this turn.\n"
     ]
    },
    {
     "name": "stdin",
     "output_type": "stream",
     "text": [
      "User>  q\n"
     ]
    }
   ],
   "source": [
    "import asyncio\n",
    "import sounddevice as sd\n",
    "import numpy as np\n",
    "\n",
    "\n",
    "client = genai.Client(api_key=GOOGLE_API_KEY)\n",
    "\n",
    "MODEL = \"gemini-2.0-flash-live-001\"\n",
    "\n",
    "config={\n",
    "    \"response_modalities\": [\"AUDIO\"]\n",
    "}\n",
    "\n",
    "\n",
    "\n",
    "async def async_enumerate(aiterable):\n",
    "  n=0\n",
    "  async for item in aiterable:\n",
    "    yield n, item\n",
    "    n+=1\n",
    "\n",
    "\n",
    "\n",
    "# --- Configuration for sounddevice (YOU MUST CONFIRM THESE FROM YOUR MODEL'S API DOCS) ---\n",
    "# These are common defaults, but your model might output different values.\n",
    "SAMPLE_RATE = 24000  # e.g., 8000, 16000, 24000\n",
    "CHANNELS = 1         # 1 for mono, 2 for stereo\n",
    "DTYPE = 'int16'      # 'int16' for 16-bit PCM, 'float32' for floating point\n",
    "# ---------------------------------------------------------------------------------------\n",
    "\n",
    "\n",
    "async def main():\n",
    "    \n",
    "    async with client.aio.live.connect(model=MODEL, config=config) as session:\n",
    "        print(f\"Connected to model: {MODEL}\")\n",
    "        print(\"Type 'q' to quit.\")\n",
    "    \n",
    "        while True:\n",
    "            message = input(\"User> \")\n",
    "            if message.lower() == \"q\":\n",
    "                break\n",
    "    \n",
    "            await session.send_client_content(\n",
    "                turns={\"role\": \"user\", \"parts\": [{\"text\": message}]}, turn_complete=True\n",
    "            )\n",
    "    \n",
    "            print(\"Model thinking...\", end='')\n",
    "    \n",
    "            # Initialize the audio stream for THIS turn.\n",
    "            # This context manager ensures the stream is properly closed when done.\n",
    "            try:\n",
    "                with sd.OutputStream(samplerate=SAMPLE_RATE, channels=CHANNELS, dtype=DTYPE) as stream:\n",
    "                    turn = session.receive()\n",
    "                    async for n, response in async_enumerate(turn):\n",
    "                        if response.data is not None:\n",
    "                            # Convert the bytes received from the model into a NumPy array\n",
    "                            # that sounddevice can play.\n",
    "                            audio_chunk = np.frombuffer(response.data, dtype=DTYPE)\n",
    "                            stream.write(audio_chunk) # Play this audio chunk immediately!\n",
    "    \n",
    "                            if n == 0:\n",
    "                                # This will print the MIME type from the first response part.\n",
    "                                # Use this to verify audio format, e.g., \"audio/wav; codec=pcm; sample_rate=16000\"\n",
    "                                print(f\"\\nModel response audio type: {response.server_content.model_turn.parts[0].inline_data.mime_type}\")\n",
    "                            print('.', end='')\n",
    "                    print(\"\\nAudio playback finished for this turn.\")\n",
    "            except Exception as e:\n",
    "                print(f\"\\nError during audio playback: {e}\")\n",
    "                print(\"Ensure SAMPLE_RATE, CHANNELS, and DTYPE match your model's audio output.\")\n",
    "                print(\"Also, check that PortAudio is installed correctly (e.g., 'brew install portaudio' on Mac).\")\n",
    "\n",
    "# How to run this in a Jupyter Notebook:\n",
    "await main() # assuming the code above is wrapped in an async def main(): function"
   ]
  },
  {
   "cell_type": "code",
   "execution_count": null,
   "id": "eb6decbb-ba1c-4733-a84e-1541296936e4",
   "metadata": {},
   "outputs": [],
   "source": []
  },
  {
   "cell_type": "code",
   "execution_count": null,
   "id": "0ac8681f-a4af-4710-b4d6-c30fb94cad18",
   "metadata": {},
   "outputs": [],
   "source": []
  },
  {
   "cell_type": "code",
   "execution_count": null,
   "id": "a3d6ce71-70df-4f98-97e9-02057d830ab4",
   "metadata": {},
   "outputs": [],
   "source": []
  },
  {
   "cell_type": "code",
   "execution_count": null,
   "id": "01b543b0-ce32-41b5-8915-dfdff4724820",
   "metadata": {},
   "outputs": [],
   "source": []
  },
  {
   "cell_type": "code",
   "execution_count": null,
   "id": "43a8fcea-7dc4-4dbb-834b-c27e2153ffe6",
   "metadata": {},
   "outputs": [],
   "source": []
  },
  {
   "cell_type": "code",
   "execution_count": null,
   "id": "9ad05296-9805-4499-b74e-40678fb0eb29",
   "metadata": {},
   "outputs": [],
   "source": []
  },
  {
   "cell_type": "code",
   "execution_count": null,
   "id": "b525ee9f-9f7e-4a9f-b394-312aeddc19e3",
   "metadata": {},
   "outputs": [],
   "source": []
  },
  {
   "cell_type": "code",
   "execution_count": null,
   "id": "d28fb4c9-e7e7-4b8c-944d-25a30f8026bb",
   "metadata": {},
   "outputs": [],
   "source": []
  },
  {
   "cell_type": "code",
   "execution_count": null,
   "id": "7aa17176-6912-4c8b-a034-bf8fd9fe1e88",
   "metadata": {},
   "outputs": [],
   "source": []
  },
  {
   "cell_type": "code",
   "execution_count": null,
   "id": "33ba2da8-2328-4db6-a8c6-d84c4c0b3fc3",
   "metadata": {},
   "outputs": [],
   "source": []
  },
  {
   "cell_type": "code",
   "execution_count": null,
   "id": "9ef5ec54-cf7e-4d26-b0cc-d7be018e470d",
   "metadata": {},
   "outputs": [],
   "source": []
  },
  {
   "cell_type": "code",
   "execution_count": null,
   "id": "b08746d6-5168-42d3-b586-543438f55252",
   "metadata": {},
   "outputs": [],
   "source": []
  }
 ],
 "metadata": {
  "kernelspec": {
   "display_name": "Python 3 (ipykernel)",
   "language": "python",
   "name": "python3"
  },
  "language_info": {
   "codemirror_mode": {
    "name": "ipython",
    "version": 3
   },
   "file_extension": ".py",
   "mimetype": "text/x-python",
   "name": "python",
   "nbconvert_exporter": "python",
   "pygments_lexer": "ipython3",
   "version": "3.9.6"
  }
 },
 "nbformat": 4,
 "nbformat_minor": 5
}
