{
 "cells": [
  {
   "cell_type": "code",
   "execution_count": null,
   "id": "849b4261-782e-41c8-8bda-0f655ff81de2",
   "metadata": {},
   "outputs": [],
   "source": []
  },
  {
   "cell_type": "code",
   "execution_count": null,
   "id": "de511c86-f7a0-4dca-8b24-351781556d7b",
   "metadata": {},
   "outputs": [],
   "source": [
    "# Gemini conversation: https://gemini.google.com/app/83774c879215fb34?utm_source=app_launcher&utm_medium=owned&utm_campaign=base_all"
   ]
  },
  {
   "cell_type": "code",
   "execution_count": null,
   "id": "4c3d46ef-d3f8-442f-b21e-ae4d37f2060b",
   "metadata": {},
   "outputs": [],
   "source": [
    "#!pip install python-dotenv\n",
    "#!pip -q install google-genai jinja2\n",
    "#!pip -q install sounddevice\n",
    "#!pip -q install numpy"
   ]
  },
  {
   "cell_type": "code",
   "execution_count": 1,
   "id": "26c9215f-75a1-4e61-bab5-b21c2916bec9",
   "metadata": {},
   "outputs": [
    {
     "name": "stderr",
     "output_type": "stream",
     "text": [
      "/Users/friday/Desktop/venv/lib/python3.9/site-packages/urllib3/__init__.py:35: NotOpenSSLWarning: urllib3 v2 only supports OpenSSL 1.1.1+, currently the 'ssl' module is compiled with 'LibreSSL 2.8.3'. See: https://github.com/urllib3/urllib3/issues/3020\n",
      "  warnings.warn(\n"
     ]
    }
   ],
   "source": [
    "from google import genai\n",
    "from google.genai import types"
   ]
  },
  {
   "cell_type": "code",
   "execution_count": 2,
   "id": "182000d4-c676-49db-b955-7a36492381d1",
   "metadata": {},
   "outputs": [
    {
     "name": "stdout",
     "output_type": "stream",
     "text": [
      "API key loaded successfully!\n"
     ]
    }
   ],
   "source": [
    "from dotenv import load_dotenv\n",
    "import os\n",
    "\n",
    "# Load your environment file\n",
    "load_dotenv('my_keys.env')\n",
    "\n",
    "# Check if the variable exists (but don't print the secret)\n",
    "GOOGLE_API_KEY = os.getenv(\"GOOGLE_API_KEY\")\n",
    "\n",
    "api_key = GOOGLE_API_KEY\n",
    "\n",
    "# Safe check\n",
    "if api_key:\n",
    "    print(\"API key loaded successfully!\")\n",
    "else:\n",
    "    print(\"API key not found. Check your .env file and path.\")"
   ]
  },
  {
   "cell_type": "markdown",
   "id": "290e8c1a-2c3e-4069-960f-9bb146841287",
   "metadata": {},
   "source": [
    "## Example 1"
   ]
  },
  {
   "cell_type": "code",
   "execution_count": 3,
   "id": "eb6decbb-ba1c-4733-a84e-1541296936e4",
   "metadata": {},
   "outputs": [
    {
     "name": "stdout",
     "output_type": "stream",
     "text": [
      ">  Hello? Gemini are you there? \n",
      "\n",
      "- Yes\n",
      "- , I'm here! How can I help you today?\n",
      "\n"
     ]
    }
   ],
   "source": [
    "client = genai.Client(api_key=GOOGLE_API_KEY)\n",
    "\n",
    "MODEL = \"gemini-2.0-flash-live-001\"\n",
    "\n",
    "config={\n",
    "    \"response_modalities\": [\"TEXT\"]\n",
    "}\n",
    "\n",
    "async with client.aio.live.connect(model=MODEL, config=config) as session:\n",
    "    \n",
    "  message = \"Hello? Gemini are you there?\"\n",
    "  print(\"> \", message, \"\\n\")\n",
    "    \n",
    "  await session.send_client_content(\n",
    "        turns={\"role\": \"user\", \"parts\": [{\"text\": message}]}, turn_complete=True\n",
    "  )\n",
    "\n",
    "  # For text responses, When the model's turn is complete it breaks out of the loop.\n",
    "  turn = session.receive()\n",
    "  async for chunk in turn:\n",
    "    if chunk.text is not None:\n",
    "      print(f'- {chunk.text}')"
   ]
  },
  {
   "cell_type": "code",
   "execution_count": null,
   "id": "0ac8681f-a4af-4710-b4d6-c30fb94cad18",
   "metadata": {},
   "outputs": [],
   "source": []
  },
  {
   "cell_type": "markdown",
   "id": "5feed8c8-943b-499e-8267-09a2b7996e3e",
   "metadata": {},
   "source": [
    "## Example 2"
   ]
  },
  {
   "cell_type": "code",
   "execution_count": 4,
   "id": "01b543b0-ce32-41b5-8915-dfdff4724820",
   "metadata": {},
   "outputs": [
    {
     "name": "stdin",
     "output_type": "stream",
     "text": [
      "User>  Hi\n"
     ]
    },
    {
     "name": "stdout",
     "output_type": "stream",
     "text": [
      "Hi there! How can I help you today?\n"
     ]
    },
    {
     "name": "stdin",
     "output_type": "stream",
     "text": [
      "User>  How are you?\n"
     ]
    },
    {
     "name": "stdout",
     "output_type": "stream",
     "text": [
      "As a large language model, I don't experience emotions like humans do. So, I don't \"feel\" in the way you might. However, I am functioning as expected and ready to assist you. Thanks for asking!\n"
     ]
    },
    {
     "name": "stdin",
     "output_type": "stream",
     "text": [
      "User>  Youre welcome\n"
     ]
    },
    {
     "name": "stdout",
     "output_type": "stream",
     "text": [
      "Great! Let me know what's on your mind. I'm here to help with information, brainstorming, creative writing, or anything else you need.\n"
     ]
    },
    {
     "name": "stdin",
     "output_type": "stream",
     "text": [
      "User>  q\n"
     ]
    }
   ],
   "source": [
    "\"\"\"\n",
    "Notes:\n",
    "1. The system has auto context memory. (Check the 24 hours thing).\n",
    "\n",
    "\"\"\"\n",
    "\n",
    "client = genai.Client(api_key=GOOGLE_API_KEY)\n",
    "\n",
    "MODEL = \"gemini-2.0-flash-live-001\"\n",
    "\n",
    "config={\n",
    "    \"response_modalities\": [\"TEXT\"]\n",
    "}\n",
    "\n",
    "\n",
    "async with client.aio.live.connect(model=MODEL, config=config) as session:\n",
    "    while True:\n",
    "        message = input(\"User> \")\n",
    "        if message.lower() == \"q\":\n",
    "            break\n",
    "            \n",
    "        await session.send_client_content(\n",
    "            turns={\"role\": \"user\", \"parts\": [{\"text\": message}]}, turn_complete=True\n",
    "        )\n",
    "\n",
    "        async for response in session.receive():\n",
    "            if response.text is not None:\n",
    "                print(response.text, end=\"\")"
   ]
  },
  {
   "cell_type": "code",
   "execution_count": null,
   "id": "43a8fcea-7dc4-4dbb-834b-c27e2153ffe6",
   "metadata": {},
   "outputs": [],
   "source": []
  },
  {
   "cell_type": "code",
   "execution_count": null,
   "id": "9ad05296-9805-4499-b74e-40678fb0eb29",
   "metadata": {},
   "outputs": [],
   "source": []
  },
  {
   "cell_type": "code",
   "execution_count": null,
   "id": "b525ee9f-9f7e-4a9f-b394-312aeddc19e3",
   "metadata": {},
   "outputs": [],
   "source": []
  },
  {
   "cell_type": "code",
   "execution_count": null,
   "id": "d28fb4c9-e7e7-4b8c-944d-25a30f8026bb",
   "metadata": {},
   "outputs": [],
   "source": []
  },
  {
   "cell_type": "code",
   "execution_count": null,
   "id": "7aa17176-6912-4c8b-a034-bf8fd9fe1e88",
   "metadata": {},
   "outputs": [],
   "source": []
  },
  {
   "cell_type": "code",
   "execution_count": null,
   "id": "33ba2da8-2328-4db6-a8c6-d84c4c0b3fc3",
   "metadata": {},
   "outputs": [],
   "source": []
  },
  {
   "cell_type": "code",
   "execution_count": null,
   "id": "9ef5ec54-cf7e-4d26-b0cc-d7be018e470d",
   "metadata": {},
   "outputs": [],
   "source": []
  },
  {
   "cell_type": "code",
   "execution_count": null,
   "id": "b08746d6-5168-42d3-b586-543438f55252",
   "metadata": {},
   "outputs": [],
   "source": []
  }
 ],
 "metadata": {
  "kernelspec": {
   "display_name": "Python 3 (ipykernel)",
   "language": "python",
   "name": "python3"
  },
  "language_info": {
   "codemirror_mode": {
    "name": "ipython",
    "version": 3
   },
   "file_extension": ".py",
   "mimetype": "text/x-python",
   "name": "python",
   "nbconvert_exporter": "python",
   "pygments_lexer": "ipython3",
   "version": "3.9.6"
  }
 },
 "nbformat": 4,
 "nbformat_minor": 5
}
